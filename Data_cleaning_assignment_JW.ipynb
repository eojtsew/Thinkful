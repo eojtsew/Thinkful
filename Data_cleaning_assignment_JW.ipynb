{
 "cells": [
  {
   "cell_type": "code",
   "execution_count": 1,
   "metadata": {},
   "outputs": [],
   "source": [
    "import numpy as np\n",
    "import pandas as pd\n",
    "\n",
    "welcome = pd.read_csv('WELLCOME_APCspend2013_forThinkful.csv',encoding='mac_roman')"
   ]
  },
  {
   "cell_type": "code",
   "execution_count": 2,
   "metadata": {},
   "outputs": [
    {
     "data": {
      "text/plain": [
       "984"
      ]
     },
     "execution_count": 2,
     "metadata": {},
     "output_type": "execute_result"
    }
   ],
   "source": [
    "by_journal = welcome.groupby('Journal title')\n",
    "counts = pd.DataFrame(by_journal['Journal title'].count())\n",
    "len(counts)"
   ]
  },
  {
   "cell_type": "code",
   "execution_count": 3,
   "metadata": {},
   "outputs": [],
   "source": [
    "# replace ' and ' with ' & '\n",
    "welcome['Journal title'] = welcome['Journal title'].str.replace(' and ',' & ')"
   ]
  },
  {
   "cell_type": "code",
   "execution_count": 4,
   "metadata": {},
   "outputs": [],
   "source": [
    "# Make everything upper case\n",
    "welcome['Journal title'] = welcome['Journal title'].str.upper()"
   ]
  },
  {
   "cell_type": "code",
   "execution_count": 5,
   "metadata": {},
   "outputs": [],
   "source": [
    "# get rid of unneccessary 'print' and 'online' descriptions\n",
    "# may or may not be a good idea, but it's the same journal, regardless of format...\n",
    "welcome['Journal title'] = welcome['Journal title'].str.replace(' ONLINE','')\n",
    "welcome['Journal title'] = welcome['Journal title'].str.replace(' PRINT','')\n",
    "\n",
    "# get rid of 'the'\n",
    "welcome['Journal title'] = welcome['Journal title'].str.replace('THE ','')\n",
    "\n",
    "# replace 'AM J ' abreviation with 'AMERICAN JOURNAL OF '\n",
    "welcome['Journal title'] = welcome['Journal title'].str.replace('AM J ','AMERICAN JOURNAL OF ')"
   ]
  },
  {
   "cell_type": "code",
   "execution_count": 6,
   "metadata": {},
   "outputs": [],
   "source": [
    "# Fixing the differences journal by journal...\n",
    "\n",
    "welcome['Journal title'] = welcome['Journal title'].replace(['PLOSONE', 'PLOS ONE', 'PLOS 1', 'PLOS'], 'PLOS ONE') \n",
    "welcome['Journal title'] = welcome['Journal title'].replace(['ACTA D', 'ACTA CRYSTALLOGRAPHICA SECTION D', 'ACTA CRYSTALLOGRAPHY D', 'ACTA CRYSTALLOGRAPHICA, SECTION D', 'ACTA CRYSTALLOGRAPHICA SECTION D, BIOLOGICAL CRYSTALLOGRAPHY'], 'ACTA CRYSTALLOGRAPHICA SECTION D: BIOLOGICAL CRYSTALLOGRAPHY') \n",
    "welcome['Journal title'] = welcome['Journal title'].replace(['AMERICAN JNL EPIDEMIOLOGY'], 'AMERICAN JOURNAL OF EPIDEMIOLOGY') \n",
    "welcome['Journal title'] = welcome['Journal title'].replace(['AMERICAN JOURNAL OF MEDICAL GENETICS PART A'], 'AMERICAN JOURNAL OF MEDICAL GENETICS') \n",
    "welcome['Journal title'] = welcome['Journal title'].replace(['ANTIMICROBIAL AGENTS AND CHEMOTHERAPY', 'ANTIMICROBIAL AGFENTS AND CHEMOTHERAPY'], 'ANTIMICROBIAL AGENTS & CHEMOTHERAPY') \n",
    "welcome['Journal title'] = welcome['Journal title'].replace(['ANGEWANDE CHEMIE', 'ANGEWANDTE CHEMIE INTERNATIONAL EDITION','ANGEW CHEMS INT ED' ], 'ANGEWANDTE CHEMIE') \n",
    "welcome['Journal title'] = welcome['Journal title'].replace(['BEHAVIOUR RESEARCH AND THERAPY'], 'BEHAVIOR RESEARCH & THERAPY') \n",
    "welcome['Journal title'] = welcome['Journal title'].replace(['BIOCHEM JOURNAL', 'BIOCHEMICAL JOURNALS'], 'BIOCHEMICAL JOURNAL') \n",
    "welcome['Journal title'] = welcome['Journal title'].replace(['BIOCHEM SOC TRANS'], 'BIOCHEMICAL SOCIETY TRANSACTIONS')\n",
    "welcome['Journal title'] = welcome['Journal title'].replace(['ACTA CRYSTALLOGRAPHICA SECTION F: STRUCTURAL BIOLOGY & CRYSTALLIZATION COMMUNICATIONS'], 'ACTA F') \n",
    "welcome['Journal title'] = welcome['Journal title'].replace(['ACTA NEUROPATHOL'],'ACTA NEUROPATHOLOGICA')\n"
   ]
  },
  {
   "cell_type": "code",
   "execution_count": 7,
   "metadata": {},
   "outputs": [
    {
     "data": {
      "text/plain": [
       "874"
      ]
     },
     "execution_count": 7,
     "metadata": {},
     "output_type": "execute_result"
    }
   ],
   "source": [
    "by_journal = welcome.groupby('Journal title')\n",
    "counts = pd.DataFrame(by_journal['Journal title'].count())\n",
    "len(counts)"
   ]
  },
  {
   "cell_type": "code",
   "execution_count": 8,
   "metadata": {},
   "outputs": [
    {
     "data": {
      "text/plain": [
       "Journal title\n",
       "PLOS ONE                           210\n",
       "JOURNAL OF BIOLOGICAL CHEMISTRY     60\n",
       "NEUROIMAGE                          29\n",
       "PLOS PATHOGENS                      24\n",
       "PLOS GENETICS                       24\n",
       "Name: Journal title, dtype: int64"
      ]
     },
     "execution_count": 8,
     "metadata": {},
     "output_type": "execute_result"
    }
   ],
   "source": [
    "# Five most common journals and number of articles each\n",
    "counts['Journal title'].sort_values(ascending=False).head()"
   ]
  },
  {
   "cell_type": "code",
   "execution_count": 9,
   "metadata": {},
   "outputs": [],
   "source": [
    "# Function to get rid of the currency symbol and convert to float\n",
    "# I would convert the ones that seem to be in dollars, but I'd have to find out the exchange rate at the time for each...\n",
    "# I'm also excluding those with a value of '£999999.00', because that seems suspiciously high...\n",
    "def floatify(money):\n",
    "    if ('£' not in money) or money == '£999999.00':\n",
    "        return None\n",
    "    else:\n",
    "        return float(money[1:])"
   ]
  },
  {
   "cell_type": "code",
   "execution_count": 10,
   "metadata": {},
   "outputs": [],
   "source": [
    "welcome['cost'] = welcome['COST (£) charged to Wellcome (inc VAT when charged)'].apply(floatify)"
   ]
  },
  {
   "cell_type": "code",
   "execution_count": 11,
   "metadata": {},
   "outputs": [],
   "source": [
    "# mean, median, and standard deviation of cost per article for each journal\n",
    "mean_by_journal = welcome.groupby('Journal title').cost.mean()\n",
    "median_by_journal = welcome.groupby('Journal title').cost.median()\n",
    "stdev_by_journal = welcome.groupby('Journal title').cost.std()"
   ]
  },
  {
   "cell_type": "code",
   "execution_count": 21,
   "metadata": {},
   "outputs": [
    {
     "data": {
      "text/html": [
       "<div>\n",
       "<style scoped>\n",
       "    .dataframe tbody tr th:only-of-type {\n",
       "        vertical-align: middle;\n",
       "    }\n",
       "\n",
       "    .dataframe tbody tr th {\n",
       "        vertical-align: top;\n",
       "    }\n",
       "\n",
       "    .dataframe thead th {\n",
       "        text-align: right;\n",
       "    }\n",
       "</style>\n",
       "<table border=\"1\" class=\"dataframe\">\n",
       "  <thead>\n",
       "    <tr style=\"text-align: right;\">\n",
       "      <th></th>\n",
       "      <th>mean</th>\n",
       "      <th>median</th>\n",
       "      <th>stdev</th>\n",
       "      <th>n</th>\n",
       "    </tr>\n",
       "    <tr>\n",
       "      <th>Journal title</th>\n",
       "      <th></th>\n",
       "      <th></th>\n",
       "      <th></th>\n",
       "      <th></th>\n",
       "    </tr>\n",
       "  </thead>\n",
       "  <tbody>\n",
       "    <tr>\n",
       "      <th>PLOS ONE</th>\n",
       "      <td>1886.484950</td>\n",
       "      <td>897.610</td>\n",
       "      <td>13489.884670</td>\n",
       "      <td>210</td>\n",
       "    </tr>\n",
       "    <tr>\n",
       "      <th>JOURNAL OF BIOLOGICAL CHEMISTRY</th>\n",
       "      <td>1415.877119</td>\n",
       "      <td>1314.530</td>\n",
       "      <td>389.441789</td>\n",
       "      <td>60</td>\n",
       "    </tr>\n",
       "    <tr>\n",
       "      <th>NEUROIMAGE</th>\n",
       "      <td>2215.168276</td>\n",
       "      <td>2326.430</td>\n",
       "      <td>266.653947</td>\n",
       "      <td>29</td>\n",
       "    </tr>\n",
       "    <tr>\n",
       "      <th>PLOS GENETICS</th>\n",
       "      <td>1643.110909</td>\n",
       "      <td>1712.730</td>\n",
       "      <td>153.366825</td>\n",
       "      <td>24</td>\n",
       "    </tr>\n",
       "    <tr>\n",
       "      <th>PLOS PATHOGENS</th>\n",
       "      <td>1590.933125</td>\n",
       "      <td>1623.505</td>\n",
       "      <td>183.174058</td>\n",
       "      <td>24</td>\n",
       "    </tr>\n",
       "  </tbody>\n",
       "</table>\n",
       "</div>"
      ],
      "text/plain": [
       "                                        mean    median         stdev    n\n",
       "Journal title                                                            \n",
       "PLOS ONE                         1886.484950   897.610  13489.884670  210\n",
       "JOURNAL OF BIOLOGICAL CHEMISTRY  1415.877119  1314.530    389.441789   60\n",
       "NEUROIMAGE                       2215.168276  2326.430    266.653947   29\n",
       "PLOS GENETICS                    1643.110909  1712.730    153.366825   24\n",
       "PLOS PATHOGENS                   1590.933125  1623.505    183.174058   24"
      ]
     },
     "execution_count": 21,
     "metadata": {},
     "output_type": "execute_result"
    }
   ],
   "source": [
    "# put the mean, median, standard deviation, and n (number of articles) into a dataframe\n",
    "# show the values for the top five journals \n",
    "results = pd.DataFrame({'mean':mean_by_journal, 'median':median_by_journal, 'stdev':stdev_by_journal, 'n':counts['Journal title']})\n",
    "results.nlargest(5, 'n')"
   ]
  },
  {
   "cell_type": "code",
   "execution_count": null,
   "metadata": {},
   "outputs": [],
   "source": []
  }
 ],
 "metadata": {
  "kernelspec": {
   "display_name": "Python 3",
   "language": "python",
   "name": "python3"
  },
  "language_info": {
   "codemirror_mode": {
    "name": "ipython",
    "version": 3
   },
   "file_extension": ".py",
   "mimetype": "text/x-python",
   "name": "python",
   "nbconvert_exporter": "python",
   "pygments_lexer": "ipython3",
   "version": "3.7.3"
  }
 },
 "nbformat": 4,
 "nbformat_minor": 2
}
