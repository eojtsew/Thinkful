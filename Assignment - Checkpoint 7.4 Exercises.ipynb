{
 "cells": [
  {
   "cell_type": "code",
   "execution_count": 21,
   "metadata": {},
   "outputs": [],
   "source": [
    "import numpy as np\n",
    "from statistics import *\n",
    "from scipy.stats import sem\n",
    "import pandas as pd"
   ]
  },
  {
   "cell_type": "markdown",
   "metadata": {},
   "source": [
    "Question #1:"
   ]
  },
  {
   "cell_type": "code",
   "execution_count": 22,
   "metadata": {},
   "outputs": [
    {
     "data": {
      "text/plain": [
       "mean               9.857143\n",
       "median            10.000000\n",
       "mode               8.000000\n",
       "variance           6.408163\n",
       "standard dev       2.531435\n",
       "standard error     1.033454\n",
       "dtype: float64"
      ]
     },
     "execution_count": 22,
     "metadata": {},
     "output_type": "execute_result"
    }
   ],
   "source": [
    "ages = [14,12,11,10,8,8,6]\n",
    "mean_age = np.mean(ages)\n",
    "med_age = np.median(ages)\n",
    "mode_age = stat.mode(ages)\n",
    "var_age = np.var(ages)\n",
    "stdev_age = np.std(ages)\n",
    "std_err = sem(ages)\n",
    "\n",
    "pd.Series({'mean':mean_age, 'median':med_age, 'mode':mode_age, 'variance':var_age, 'standard dev':stdev_age, 'standard error':std_err})\n"
   ]
  },
  {
   "cell_type": "markdown",
   "metadata": {},
   "source": [
    "Question #2:"
   ]
  },
  {
   "cell_type": "markdown",
   "metadata": {},
   "source": [
    "I would choose the mean and standard deviation. The mean and median are almost the same. "
   ]
  },
  {
   "cell_type": "markdown",
   "metadata": {},
   "source": [
    "Question #3:"
   ]
  },
  {
   "cell_type": "code",
   "execution_count": 23,
   "metadata": {},
   "outputs": [
    {
     "data": {
      "text/plain": [
       "mean              10.000000\n",
       "median            10.000000\n",
       "mode               8.000000\n",
       "variance           5.428571\n",
       "standard dev       2.329929\n",
       "standard error     0.951190\n",
       "dtype: float64"
      ]
     },
     "execution_count": 23,
     "metadata": {},
     "output_type": "execute_result"
    }
   ],
   "source": [
    "ages = [14,12,11,10,8,8,7]\n",
    "mean_age = np.mean(ages)\n",
    "med_age = np.median(ages)\n",
    "mode_age = stat.mode(ages)\n",
    "var_age = np.var(ages)\n",
    "stdev_age = np.std(ages)\n",
    "std_err = sem(ages)\n",
    "\n",
    "pd.Series({'mean':mean_age, 'median':med_age, 'mode':mode_age, 'variance':var_age, 'standard dev':stdev_age, 'standard error':std_err})\n",
    "\n"
   ]
  },
  {
   "cell_type": "markdown",
   "metadata": {},
   "source": [
    "The mean and median are now equal."
   ]
  },
  {
   "cell_type": "markdown",
   "metadata": {},
   "source": [
    "Question #4:"
   ]
  },
  {
   "cell_type": "code",
   "execution_count": 24,
   "metadata": {},
   "outputs": [
    {
     "data": {
      "text/plain": [
       "mean               8.857143\n",
       "median            10.000000\n",
       "mode                    NaN\n",
       "variance          16.122449\n",
       "standard dev       4.015277\n",
       "standard error     1.639230\n",
       "dtype: float64"
      ]
     },
     "execution_count": 24,
     "metadata": {},
     "output_type": "execute_result"
    }
   ],
   "source": [
    "ages = [14,12,11,10,8,6,1]\n",
    "mean_age = np.mean(ages)\n",
    "med_age = np.median(ages)\n",
    "try:\n",
    "    mode_age = stat.mode(ages)\n",
    "except StatisticsError:\n",
    "    mode_age = None\n",
    "var_age = np.var(ages)\n",
    "stdev_age = np.std(ages)\n",
    "std_err = sem(ages)\n",
    "\n",
    "pd.Series({'mean':mean_age, 'median':med_age, 'mode':mode_age, 'variance':var_age, 'standard dev':stdev_age, 'standard error':std_err})\n",
    "\n"
   ]
  },
  {
   "cell_type": "markdown",
   "metadata": {},
   "source": [
    "The mean is now somewhat lower than the median, so I would use median instead of mean now because it's affected less by outliers."
   ]
  },
  {
   "cell_type": "markdown",
   "metadata": {},
   "source": [
    "Question #5:"
   ]
  },
  {
   "cell_type": "markdown",
   "metadata": {},
   "source": [
    "about 20%"
   ]
  },
  {
   "cell_type": "code",
   "execution_count": null,
   "metadata": {},
   "outputs": [],
   "source": []
  }
 ],
 "metadata": {
  "kernelspec": {
   "display_name": "Python 3",
   "language": "python",
   "name": "python3"
  },
  "language_info": {
   "codemirror_mode": {
    "name": "ipython",
    "version": 3
   },
   "file_extension": ".py",
   "mimetype": "text/x-python",
   "name": "python",
   "nbconvert_exporter": "python",
   "pygments_lexer": "ipython3",
   "version": "3.7.3"
  }
 },
 "nbformat": 4,
 "nbformat_minor": 2
}
